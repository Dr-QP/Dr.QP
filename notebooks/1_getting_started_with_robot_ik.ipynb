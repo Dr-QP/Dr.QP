{
 "cells": [
  {
   "cell_type": "markdown",
   "metadata": {},
   "source": [
    "# 1. Getting Started With Robot Inverse Kinematics (IK)\n",
    "\n",
    "Welcome to the first guide in the series of getting started with Dr.QP robot Inverse Kinematics (IK).\n",
    "In this guide, we will cover the basics of IK and how to use it to control a robot.\n",
    "\n",
    "## What is Inverse Kinematics?\n",
    "Inverse Kinematics (IK) is a technique used in robotics to determine the joint angles required to achieve a desired end-effector position. It is the process of solving the inverse problem of forward kinematics, which calculates the end-effector position given the joint angles.\n",
    "\n",
    "## Why is Inverse Kinematics Important?\n",
    "Inverse Kinematics is important because it allows robots to perform complex movements and tasks. By calculating the joint angles required to reach a specific position, robots can navigate their environment and interact with objects more effectively.\n",
    "\n",
    "## How to Use Inverse Kinematics\n",
    "To use Inverse Kinematics, you need to have a model of your robot's kinematics. This model includes the lengths of the robot's links and the joint angles. Once you have this model, you can use it to calculate the joint angles required to achieve a desired end-effector position."
   ]
  },
  {
   "cell_type": "markdown",
   "metadata": {},
   "source": [
    "## Setting up the Jupyter notebook for experimentation\n",
    "\n",
    "This documentation has been generated from a Jupyter notebook and is available in the repo source code (see link below).\n",
    "\n",
    "The next couple of cells are designated to the setup of the notebook environment locally or on the Google Colab. If you are not interested in the experimentation and only want to read the documentation, feel free to skip them.\n",
    "\n",
    "The first step is to enable live python modules reloading, so changes in the python code of imported files are immediately reflected in the notebook without restarting the kernel.\n"
   ]
  },
  {
   "cell_type": "code",
   "execution_count": null,
   "metadata": {},
   "outputs": [],
   "source": [
    "# Enable python modules live reloading\n",
    "%load_ext autoreload\n",
    "%autoreload 2"
   ]
  },
  {
   "cell_type": "markdown",
   "metadata": {},
   "source": [
    "### Colab specific setup\n",
    "\n",
    "Google Colab opens only the notebook file and all the dependencies are not available. The code below will clone the repository and install the dependencies.\n",
    "\n",
    "In order to view non default branch change `branch_to_view='main'` below.\n",
    "\n",
    "#### Runtime restart!!\n",
    "\n",
    "The runtime need to be restarted to pick up the new modules. The code below will install them and kill runtime, simply run all cells again afterwards"
   ]
  },
  {
   "cell_type": "code",
   "execution_count": null,
   "metadata": {},
   "outputs": [],
   "source": [
    "from IPython.display import display, Markdown\n",
    "from urllib.parse import quote\n",
    "\n",
    "branch_to_view = 'main'\n",
    "notebook_subpath = 'notebooks/1_getting_started_with_robot_ik.ipynb'\n",
    "codespaces_url = f'https://github.com/codespaces/new?machine=basicLinux32gb&repo=96508363&workspace=%2Fhome%2Frosdev%2Fros2_ws%2FDr.QP.code-workspace&ref={branch_to_view}&geo=UsWest&devcontainer_path=.devcontainer%2Fprebuilt%2Fdevcontainer.json&location={quote(notebook_subpath, safe=\"\")}'\n",
    "\n",
    "notebook_path = f'Dr-QP/Dr.QP/blob/{branch_to_view}/{notebook_subpath}'\n",
    "colab_badge_markdown = f'[![Open In Colab](https://colab.research.google.com/assets/colab-badge.svg)](https://colab.research.google.com/github/{notebook_path})'\n",
    "github_badge_markdown = f'[![Open In GitHub](https://img.shields.io/badge/Open%20In-GitHub-blue.svg)](https://github.com/{notebook_path})'\n",
    "codespace_badge_markdown = f'[![Open In GitHub Codespace](https://img.shields.io/badge/Open%20In-GitHub%20Codespace-blue.svg)]({codespaces_url})'\n",
    "badge_markdown = f'{colab_badge_markdown}\\n\\n{github_badge_markdown}\\n\\n{codespace_badge_markdown}'\n",
    "\n",
    "display(Markdown(badge_markdown))"
   ]
  },
  {
   "cell_type": "code",
   "execution_count": null,
   "metadata": {},
   "outputs": [],
   "source": [
    "# type: ignore\n",
    "# Setup for Google Colab\n",
    "import importlib.util\n",
    "\n",
    "IN_COLAB = (\n",
    "    importlib.util.find_spec('google') is not None\n",
    "    and importlib.util.find_spec('google.colab') is not None\n",
    ")\n",
    "\n",
    "if IN_COLAB:\n",
    "    try:\n",
    "        import plotting  # noqa: F401\n",
    "        import point  # noqa: F401\n",
    "    except ImportError:\n",
    "        !git clone --filter=blob:none --no-checkout --depth 1 --sparse https://github.com/Dr-QP/Dr.QP.git --branch=$branch_to_view\n",
    "        !cd Dr.QP && git sparse-checkout add notebooks && git checkout && cd ..\n",
    "        !mv Dr.QP/notebooks/* .\n",
    "        !mv Dr.QP/* .\n",
    "        !rm -rf Dr.QP\n",
    "        %pip uninstall thinc -y\n",
    "        %pip install -r requirements.txt\n",
    "        print('\\n\\n\\nRestarting runtime to pick up the new modules...')\n",
    "        import os\n",
    "\n",
    "        os.kill(os.getpid(), 9)"
   ]
  },
  {
   "cell_type": "markdown",
   "metadata": {},
   "source": [
    "The next step is configuring matplotlib backend. Widget backend allows to interact with the plots in the notebook and is supported in Google Colab and VSCode."
   ]
  },
  {
   "cell_type": "code",
   "execution_count": null,
   "metadata": {},
   "outputs": [],
   "source": [
    "%matplotlib widget\n",
    "\n",
    "import matplotlib.pyplot as plt"
   ]
  },
  {
   "cell_type": "markdown",
   "metadata": {},
   "source": [
    "## The robot model\n",
    "\n",
    "For this tutorial we will use the simplest part of Dr.QP robot - a single leg.\n",
    "\n",
    "It has a 3 degrees of freedom and consists of 3 links:\n",
    " - coxa (hip)\n",
    " - femur (thigh)\n",
    " - tibia (shin)\n",
    " \n",
    "and 3 joints:\n",
    " - alpha (coxa joint, hip joint)\n",
    " - beta (femur joint, thigh joint)\n",
    " - gamma (tibia joint, shin joint)\n",
    "\n",
    "Links have only single property - length. They are connected to each other with joints. Joints have only single property - angle.\n",
    "\n",
    "The diagrams below will make it much more clear, I promise.\n",
    "\n",
    "The values below are the default parameters for the simulated leg used in this tutorial."
   ]
  },
  {
   "cell_type": "code",
   "execution_count": null,
   "metadata": {},
   "outputs": [],
   "source": [
    "coxa_length = 5\n",
    "femur_length = 8\n",
    "tibia_length = 10\n",
    "\n",
    "alpha = 0  # controls coxa angle, 0 is straight\n",
    "beta = 0  # controls femur angle, 0 is straight\n",
    "gamma = 0  # controls tibia angle, 0 is straight"
   ]
  },
  {
   "cell_type": "markdown",
   "metadata": {},
   "source": [
    "## Forward kinematics\n",
    "\n",
    "Before we dive into the details of how inverse kinematics works, let's first get familiar with forward kinematics. The forward kinematics of the robotic leg is the process of calculating the position of the foot based on the angles of the joints.\n",
    "\n",
    "Coxa, femur and tibia are represented with vector that is rotated at its base. Each next link starts at the ened of the previous link."
   ]
  },
  {
   "cell_type": "code",
   "execution_count": null,
   "metadata": {},
   "outputs": [],
   "source": [
    "from point import Line, Point\n",
    "\n",
    "\n",
    "# unused\n",
    "def forward_kinematics_rads(\n",
    "    coxa_length,\n",
    "    femur_length,\n",
    "    tibia_length,\n",
    "    alpha_rad,\n",
    "    beta_rad,\n",
    "    gamma_rad,\n",
    "    start_height=2,\n",
    "    body_length=3,\n",
    "):\n",
    "    start = Point(0, start_height)\n",
    "    body = start + Point(body_length, 0, f'{alpha_rad=}rads')\n",
    "    coxa = body + Point(coxa_length, 0, f'{beta_rad=}rads').rotate(alpha_rad)\n",
    "    femur = coxa + Point(femur_length, 0, f'{gamma_rad=}rads').rotate(beta_rad)\n",
    "    tibia = femur + Point(tibia_length, 0, 'Foot').rotate(gamma_rad)\n",
    "\n",
    "    return (\n",
    "        Line(start, body, 'Body'),\n",
    "        Line(body, coxa, 'Coxa'),\n",
    "        Line(coxa, femur, 'Femur'),\n",
    "        Line(femur, tibia, 'Tibia'),\n",
    "    )"
   ]
  },
  {
   "cell_type": "markdown",
   "metadata": {},
   "source": [
    "Radians is a natural way to represent angles in most of the math related to robotics, however I find it easier to think in degrees, therefore I will be using degrees in this notebook."
   ]
  },
  {
   "cell_type": "code",
   "execution_count": null,
   "metadata": {},
   "outputs": [],
   "source": [
    "import numpy as np\n",
    "\n",
    "\n",
    "def forward_kinematics(\n",
    "    coxa_length,\n",
    "    femur_length,\n",
    "    tibia_length,\n",
    "    alpha,\n",
    "    beta,\n",
    "    gamma,\n",
    "    start_height=2,\n",
    "    body_length=5,\n",
    "    verbose=False,\n",
    "):\n",
    "    alpha_rad = np.radians(alpha)\n",
    "    beta_rad = np.radians(beta) + alpha_rad\n",
    "    gamma_rad = np.radians(gamma) + beta_rad\n",
    "\n",
    "    start = Point(0, start_height)\n",
    "    body = start + Point(body_length, 0, rf'$\\alpha$={alpha}°')\n",
    "    coxa = body + Point(coxa_length, 0, rf'$\\beta$={beta}°').rotate(alpha_rad)\n",
    "    femur = coxa + Point(femur_length, 0, rf'$\\gamma$={gamma}°').rotate(beta_rad)\n",
    "    tibia = femur + Point(tibia_length, 0, 'Foot').rotate(gamma_rad)\n",
    "\n",
    "    result = (\n",
    "        Line(start, body, 'Body'),\n",
    "        Line(body, coxa, 'Coxa'),\n",
    "        Line(coxa, femur, 'Femur'),\n",
    "        Line(femur, tibia, 'Tibia'),\n",
    "    )\n",
    "\n",
    "    if verbose:\n",
    "        print(f'{start=}')\n",
    "        print(f'{body=}')\n",
    "        print(f'{coxa=}')\n",
    "        print(f'{femur=}')\n",
    "        print(f'{tibia=}')\n",
    "\n",
    "        for line in result:\n",
    "            print(line)\n",
    "\n",
    "    return result"
   ]
  },
  {
   "cell_type": "markdown",
   "metadata": {},
   "source": [
    "First, lets see how our leg looks in the neutral position. It is a straight line going from start point at (0, 0) and ending with the `Foot`"
   ]
  },
  {
   "cell_type": "code",
   "execution_count": null,
   "metadata": {},
   "outputs": [],
   "source": [
    "from plotting import plot_leg_with_points\n",
    "\n",
    "model = forward_kinematics(coxa_length, femur_length, tibia_length, alpha, beta, gamma)\n",
    "\n",
    "with plt.ioff():\n",
    "    _ = plot_leg_with_points(model, 'Neutral position (straight leg)')\n",
    "    display(plt.gcf())"
   ]
  },
  {
   "cell_type": "markdown",
   "metadata": {},
   "source": [
    "Now lets try changing some angles to see how it behaves. Feel free to experiment with different values."
   ]
  },
  {
   "cell_type": "code",
   "execution_count": null,
   "metadata": {},
   "outputs": [],
   "source": [
    "model = forward_kinematics(coxa_length, femur_length, tibia_length, 50, -60, -10)\n",
    "\n",
    "with plt.ioff():\n",
    "    _ = plot_leg_with_points(\n",
    "        model, 'Lifted up (coxa) and bent down (femur, tibia)', link_labels='legend'\n",
    "    )\n",
    "    display(plt.gcf())"
   ]
  },
  {
   "cell_type": "code",
   "execution_count": null,
   "metadata": {},
   "outputs": [],
   "source": [
    "# Lifted up (coxa) and bent down (femur), with foot on the ground (guessed angle)\n",
    "model = forward_kinematics(coxa_length, femur_length, tibia_length, 45, -55, -14)\n",
    "\n",
    "with plt.ioff():\n",
    "    _ = plot_leg_with_points(model, 'Foot on the ground', link_labels='legend')\n",
    "    display(plt.gcf())"
   ]
  },
  {
   "cell_type": "markdown",
   "metadata": {},
   "source": [
    "## Exercise 1. Forward kinematics. Find angles at which the leg is on the ground\n",
    "\n",
    "Its time to have a little fun with our robot.\n",
    "\n",
    "Using the sliders on the interactive diagram below try to find angles at which the foot is on the ground."
   ]
  },
  {
   "cell_type": "code",
   "execution_count": null,
   "metadata": {},
   "outputs": [],
   "source": [
    "from ipywidgets import interact\n",
    "from plotting import plot_leg_update_lines\n",
    "\n",
    "start_height = 3\n",
    "alpha = 0\n",
    "beta = 35\n",
    "gamma = -110\n",
    "model = forward_kinematics(\n",
    "    coxa_length, femur_length, tibia_length, alpha, beta, gamma, start_height=start_height\n",
    ")\n",
    "\n",
    "with plt.ion():\n",
    "    fig, _, lines, joints = plot_leg_with_points(\n",
    "        model,\n",
    "        'Find angles to place foot on the X axis',\n",
    "        # no_joint_labels=is_interactive,\n",
    "        # no_link_labels=is_interactive,\n",
    "        link_labels='legend',\n",
    "        joint_labels='points',\n",
    "    )\n",
    "\n",
    "\n",
    "def animate(alpha=alpha, beta=beta, gamma=gamma):\n",
    "    model = forward_kinematics(\n",
    "        coxa_length, femur_length, tibia_length, alpha, beta, gamma, start_height=start_height\n",
    "    )\n",
    "    plot_leg_update_lines(model, lines, joints)\n",
    "    fig.canvas.draw_idle()\n",
    "\n",
    "\n",
    "_ = interact(animate, alpha=(-180, 180, 0.1), beta=(-180, 180, 0.1), gamma=(-180, 180, 0.1))"
   ]
  },
  {
   "cell_type": "markdown",
   "metadata": {},
   "source": [
    "That was a fun little exercise, but it takes some effort to find just the right angle, and you might have noticed that there are more than one solution to it. \n",
    "\n",
    "The problem of having more than one solution is known as over-actuation. It happens for our robotic leg because there are 3 joints in the same plain, giving leg ability of reaching desired goal using various combinations of joint angles. Essentially if links create a polygon with more than 3 sides (more than triangle), then there are multiple solutions.\n",
    "\n",
    "However, it is not an issue in the real Dr.QP hexapod robot as coxa joint is in the different plain in 3D space. Therefore we are not going to expand on this topic further right now and will keep coxa joint angle (alpha) fixed at 0 degree. This will prevent over-actuation and simplify the problem.\n",
    "\n",
    "Additionally we are going to work with projections or slices of 3D space to a 2D space from here on. ROS is using right hand side coordinates system, Z is up, X is forward, Y is left. We are going to work with XY plane (top view) and XZ plane (side view) for the rest of the notebook. THe X'Z plane is the plane of the leg, it will be explained more in the following chapter.\n",
    "\n",
    "There are various ways to solve inverse kinematics problem. We are going to use the fairly basic one, which is based on trigonometry, since it is the most straightforward way to solve it for Dr.QP legs."
   ]
  },
  {
   "cell_type": "markdown",
   "metadata": {},
   "source": [
    "## Solving inverse kinematics using trigonometry\n",
    "\n",
    "The following 2 chapters will cover the math behind solving inverse kinematics for a 3DOF leg. Coxa IK and Femur/Tibia IK are solved separately as they lie in different planes.\n",
    "\n",
    "This diagram should give you an idea of what we are trying to solve:\n",
    "\n",
    "<img src=\"https://github.com/user-attachments/assets/e6447032-cd1a-4f5b-b756-689c733b8389\" />\n",
    "\n",
    "`TODO: Update diagram with the one from Dr.QP leg and names of angles and planes matching this notebook`"
   ]
  },
  {
   "cell_type": "code",
   "execution_count": null,
   "metadata": {},
   "outputs": [],
   "source": [
    "# Custom lengths for the IK examples\n",
    "coxa_len = 5\n",
    "femur_len = 10\n",
    "tibia_len = 14"
   ]
  },
  {
   "cell_type": "markdown",
   "metadata": {},
   "source": [
    "### Coxa Inverse Kinematics\n",
    "\n",
    "Coxa joint (alpha) is located in the XY plane (aka top view), X being forward and Y being left.\n",
    "\n",
    "IK problem is to find angle alpha that will align leg with a given target point. Even if point is 3D (X, Y, Z), for this part of the problem only (X, Y) are considered.\n",
    "\n",
    "Below you can find a view of the leg in XY plane "
   ]
  },
  {
   "cell_type": "code",
   "execution_count": null,
   "metadata": {},
   "outputs": [],
   "source": [
    "def forward_kinematics_xy(coxa_length, femur_length, tibia_length, alpha, show_alpha_value=False):\n",
    "    body_rad = np.radians(0)\n",
    "    alpha_rad = body_rad + np.radians(alpha)\n",
    "    start = Point(0, 0)\n",
    "    body = start + Point(\n",
    "        0.001, 0, rf'$\\alpha$={alpha:.2f}°' if show_alpha_value else r'$\\alpha$'\n",
    "    ).rotate(body_rad)\n",
    "    coxa = body + Point(coxa_length, 0).rotate(alpha_rad)\n",
    "    femur = coxa + Point(femur_length, 0).rotate(alpha_rad)\n",
    "    tibia = femur + Point(tibia_length, 0, 'Foot').rotate(alpha_rad)\n",
    "\n",
    "    return (\n",
    "        Line(start, body, 'Body'),\n",
    "        Line(body, coxa, 'Coxa'),\n",
    "        Line(coxa, femur, 'Femur'),\n",
    "        Line(femur, tibia, 'Tibia'),\n",
    "    )\n",
    "\n",
    "\n",
    "def plot_leg_with_points_xy(model: list[Line], title: str):\n",
    "    _, ax, _, _ = plot_leg_with_points(model, title, link_labels='none', x_label='X', y_label='Y')\n",
    "    return ax\n",
    "\n",
    "\n",
    "model = forward_kinematics_xy(coxa_len, femur_len, tibia_len, 0)\n",
    "\n",
    "with plt.ioff():\n",
    "    plot_leg_with_points_xy(model, 'XY plane (top view, neutral position)')\n",
    "    display(plt.gcf())\n",
    "\n",
    "\n",
    "model = forward_kinematics_xy(coxa_len, femur_len, tibia_len, 30)\n",
    "\n",
    "with plt.ioff():\n",
    "    plot_leg_with_points_xy(model, 'XY plane (top view)')\n",
    "    display(plt.gcf())"
   ]
  },
  {
   "cell_type": "markdown",
   "metadata": {},
   "source": [
    "Finding angle $\\alpha$ is a trivial problem, since we are dealing with a right triangle."
   ]
  },
  {
   "cell_type": "code",
   "execution_count": null,
   "metadata": {},
   "outputs": [],
   "source": [
    "from inline_labels import add_inline_labels\n",
    "\n",
    "\n",
    "def plot_leg_with_points_xy_ik(model: list[Line], title: str):\n",
    "    ax = plot_leg_with_points_xy(model, title)\n",
    "    start = model[0].start\n",
    "    foot = model[-1].end\n",
    "    x_projection = Point(foot.x, 0)\n",
    "    ax.plot(*zip(foot, x_projection), 'm--', label=r'$target_y$')\n",
    "    ax.plot(*zip(start, x_projection), 'm--', label=r'$target_x$')\n",
    "    ax.plot(*zip(start, foot), 'm:', label=\"X'\")\n",
    "    add_inline_labels(ax, with_overall_progress=False, fontsize='medium')\n",
    "    ax.legend().remove()\n",
    "    return ax\n",
    "\n",
    "\n",
    "model = forward_kinematics_xy(coxa_len, femur_len, tibia_len, 30)\n",
    "\n",
    "with plt.ioff():\n",
    "    plot_leg_with_points_xy_ik(model, 'Coxa (alpha) IK')\n",
    "    display(plt.gcf())"
   ]
  },
  {
   "cell_type": "markdown",
   "metadata": {},
   "source": [
    "Our right triangle is formed by lines $target_y$ and $target_x$ and hypotenuse $X'$ which is the leg itself. Therefore a simple $arctan$ will give us the angle:\n",
    "\n",
    "$\\Large \\alpha = arctan(\\frac{target_y}{target_x})$ or in python: `alpha = math.atan2(foot_target.y, foot_target.x)`\n",
    "\n",
    "The second computation we need to make is the length of the hypotenuse $X'$ that will be used in the IK for the X'Z plane. This distance will be location of the foot target in $X'$ direction.\n",
    "\n",
    "$\\Large X' = \\sqrt{target_x^2 + target_y^2}$ or in python: `X_tick = math.hypot(foot_target.x, foot_target.y)`"
   ]
  },
  {
   "cell_type": "code",
   "execution_count": null,
   "metadata": {},
   "outputs": [],
   "source": [
    "import math\n",
    "\n",
    "\n",
    "def plot_xtick(alpha):\n",
    "    with plt.ioff():\n",
    "        model = forward_kinematics_xy(coxa_len, femur_len, tibia_len, alpha)\n",
    "        ax = plot_leg_with_points_xy(model, \"Translating X to X'\")\n",
    "\n",
    "        foot = model[-1].end\n",
    "        ax.text(foot.x, foot.y + 1, f\"X={foot.x:.2f}\\nX'={math.hypot(foot.x, foot.y):.2f}\")\n",
    "    display(plt.gcf())\n",
    "\n",
    "\n",
    "plot_xtick(0)\n",
    "plot_xtick(15)\n",
    "plot_xtick(30)"
   ]
  },
  {
   "cell_type": "markdown",
   "metadata": {},
   "source": [
    "Putting all of this in code will look as follows"
   ]
  },
  {
   "cell_type": "code",
   "execution_count": null,
   "metadata": {},
   "outputs": [],
   "source": [
    "from point import SimplePoint3D as Point3D\n",
    "\n",
    "\n",
    "def coxa_ik(foot_target):\n",
    "    alpha = math.degrees(math.atan2(foot_target.y, foot_target.x))\n",
    "    X_tick = math.hypot(foot_target.x, foot_target.y)\n",
    "    return alpha, X_tick\n",
    "\n",
    "\n",
    "def plot_leg_ik_xy(foot_target: Point, plot_title='Inverse Kinematics solved'):\n",
    "    alpha, X_tick = coxa_ik(foot_target)\n",
    "\n",
    "    model = forward_kinematics_xy(coxa_len, femur_len, tibia_len, alpha, show_alpha_value=True)\n",
    "\n",
    "    ax = plot_leg_with_points_xy(model, plot_title)\n",
    "\n",
    "    ax.scatter(foot_target.x, foot_target.y, color='k', label='Foot target')\n",
    "    ax.text(\n",
    "        foot_target.x, foot_target.y - 3, f\"({foot_target.x}, {foot_target.y})\\nX'={X_tick:.2f}\"\n",
    "    )\n",
    "    ax.legend().remove()\n",
    "\n",
    "\n",
    "foot_target_3d = Point3D(13, 15, -6)\n",
    "\n",
    "with plt.ioff():\n",
    "    plot_leg_ik_xy(foot_target_3d.xy)\n",
    "    display(plt.gcf())"
   ]
  },
  {
   "cell_type": "markdown",
   "metadata": {},
   "source": [
    "As you can see on the diagram above, coxa IK was solved correctly and leg is now aligned with the target foot position. However leg's foot is not at the target foot position. That will be solved by femur and tibia IK described below."
   ]
  },
  {
   "cell_type": "markdown",
   "metadata": {},
   "source": [
    "## Femur and Tibia Inverse Kinematics in X'Z Plane\n",
    "\n",
    "Inverse Kinematics for Femur and Tibia is a bit more involved than for the Coxa. Let's start by looking at diagram below."
   ]
  },
  {
   "cell_type": "code",
   "execution_count": null,
   "metadata": {},
   "outputs": [],
   "source": [
    "from plotting import plot_ik_lines\n",
    "\n",
    "alpha = 0\n",
    "beta = 35\n",
    "gamma = -93\n",
    "\n",
    "model = forward_kinematics(\n",
    "    coxa_len,\n",
    "    femur_len,\n",
    "    tibia_len,\n",
    "    alpha,\n",
    "    beta,\n",
    "    gamma,\n",
    "    # Inverse kinematic is defined in terms of leg coordinate frame, so body length and start_z are 0\n",
    "    start_height=0,\n",
    "    body_length=0,\n",
    ")\n",
    "\n",
    "with plt.ioff():\n",
    "    fig, ax, _, _ = plot_leg_with_points(\n",
    "        model,\n",
    "        'Inverse Kinematics trigonometry',\n",
    "        joint_labels='points',\n",
    "        link_labels='label',\n",
    "        no_cartesian_ticks=True,\n",
    "        x_label=\"X'\",\n",
    "        y_label='Z',\n",
    "    )\n",
    "\n",
    "    body, coxa, femur, tibia = model\n",
    "    plot_ik_lines(ax, femur, tibia)\n",
    "\n",
    "    display(plt.gcf())"
   ]
  },
  {
   "cell_type": "markdown",
   "metadata": {},
   "source": [
    "As you can see on the diagram above, there are 2 triangles formed by leg links and additional lines `D`, `T` and `L`. \n",
    "\n",
    "Angles $\\theta1$, $\\theta2$, $\\Phi$ are the angles we need to find. They will allow us to compute $\\beta$ and $\\gamma$.\n",
    "\n",
    "`D` - is simple, it is the foot's target Z coordinate, negated.\n",
    "\n",
    "`T` is fairly simple as well, it is target X' coordinate in leg coordinate frame minus coxa length.\n",
    "\n",
    "`L` - is hypotenuse of the triangle formed by `D` and `T` which can be computed using Pythagorean theorem: $L = \\sqrt{D^2 + T^2}$ (or `L = math.hypot(D, T)` in python)\n",
    "\n",
    "Since `L`, `D`, `T` form a square triangle, $\\theta2$ can be computed using trigonometry: $\\theta2 = \\arctan(\\frac{T}{D})$ (or `theta2 = math.atan2(T, D)` in python)\n",
    "\n",
    "---\n",
    "\n",
    "For $\\theta1$ and $\\Phi$ we need to use [law of cosines](https://www.geeksforgeeks.org/law-of-cosine/):\n",
    "\n",
    "<img src=\"https://media.geeksforgeeks.org/wp-content/uploads/20240607181448/Law-of-Cosines-copy.webp\" width=\"500\">\n",
    "\n",
    "Which can be rewritten to compute angles as:\n",
    "\n",
    "$\\Large \\cos A = (\\frac{b^2 + c^2 – a^2}{2bc})$\n",
    "\n",
    "$\\Large \\cos B = (\\frac{a^2 + c^2 – b^2}{2ac})$\n",
    "\n",
    "\n",
    "In our case:\n",
    "\n",
    "$a = L$\n",
    "\n",
    "$b = tibia$\n",
    "\n",
    "$c = femur$\n",
    "\n",
    "angle $A = \\Phi$\n",
    "\n",
    "angle $B = \\theta1$\n",
    "\n",
    "---\n",
    "\n",
    "\n",
    "Therefore:\n",
    "\n",
    "$\\Large \\theta1 = \\arccos(\\frac{L^2 + femur^2 - tibia^2}{2 * L * femur})$\n",
    "\n",
    "or in python `theta1 = math.acos((L**2 + femur**2 - tibia**2) / (2 * L * femur))`\n",
    "\n",
    "Similarly $\\Large \\Phi = \\arccos(\\frac{tibia^2 + femur^2 - L^2}{2 * tibia * femur})$\n",
    "\n",
    "or in python `phi = math.acos((tibia**2 + femur**2 - L**2) / (2 * tibia * femur))`\n",
    "\n",
    "What is left is to compute $\\beta$ and $\\gamma$ using the following formulas: \n",
    "\n",
    "$\\beta = \\theta1 + \\theta2 - 90$ (offset by 90 degrees to align with leg coordinate frame, see diagram below of a straight leg)\n",
    "\n",
    "$\\gamma = \\Phi - 180$\n",
    "\n",
    "\n",
    "\n",
    "And that is all, lets put it all together:"
   ]
  },
  {
   "cell_type": "code",
   "execution_count": null,
   "metadata": {},
   "outputs": [],
   "source": [
    "def inverse_kinematics_xz(coxa, femur, tibia, foot_target, verbose=False):\n",
    "    \"\"\"\n",
    "    XZ axis Inverse kinematics solver for 3DOF leg.\n",
    "\n",
    "    Math as described above\n",
    "    \"\"\"\n",
    "    D = -foot_target.y\n",
    "    T = foot_target.x - coxa\n",
    "    L = math.hypot(D, T)\n",
    "\n",
    "    theta1 = math.degrees(math.acos((L**2 + femur**2 - tibia**2) / (2 * L * femur)))\n",
    "    theta2 = math.degrees(math.atan2(T, D))\n",
    "    phi = math.degrees(math.acos((tibia**2 + femur**2 - L**2) / (2 * tibia * femur)))\n",
    "\n",
    "    beta = (theta1 + theta2) - 90\n",
    "    gamma = phi - 180\n",
    "    if verbose:\n",
    "        print(f'{theta1=}\\n{theta2=}\\n{phi=}\\n\\n{beta=}\\n{gamma=}')\n",
    "    return beta, gamma\n",
    "\n",
    "\n",
    "def solve_and_plot_at_target_xz(\n",
    "    foot_target: Point, plot_title='Inverse Kinematics solved', verbose=False\n",
    "):\n",
    "    alpha = 0\n",
    "    beta, gamma = inverse_kinematics_xz(\n",
    "        coxa_len, femur_len, tibia_len, foot_target, verbose=verbose\n",
    "    )\n",
    "\n",
    "    model = forward_kinematics(\n",
    "        coxa_len,\n",
    "        femur_len,\n",
    "        tibia_len,\n",
    "        alpha,\n",
    "        beta,\n",
    "        gamma,\n",
    "        # Inverse kinematic is defined in terms of leg coordinate frame, so body length and start_z are 0\n",
    "        start_height=0,\n",
    "        body_length=0,\n",
    "    )\n",
    "\n",
    "    fig, ax, _, _ = plot_leg_with_points(\n",
    "        model,\n",
    "        plot_title,\n",
    "        joint_labels='points',\n",
    "        x_label=\"X'\",\n",
    "        y_label='Z',\n",
    "    )\n",
    "\n",
    "    ax.scatter(foot_target.x, foot_target.y, color='k', label='Foot target')\n",
    "    ax.legend().remove()\n",
    "    return beta, gamma\n",
    "\n",
    "\n",
    "alpha_ik, X_tick = coxa_ik(foot_target_3d.xy)\n",
    "\n",
    "with plt.ioff():\n",
    "    beta_ik, gamma_ik = solve_and_plot_at_target_xz(\n",
    "        Point(X_tick, foot_target_3d.z), 'Foot_target_3D in XZ plane', verbose=True\n",
    "    )\n",
    "    display(plt.gcf())"
   ]
  },
  {
   "cell_type": "markdown",
   "metadata": {},
   "source": [
    "And that is all. We have solved inverse kinematics for a 3DOF leg."
   ]
  },
  {
   "cell_type": "code",
   "execution_count": null,
   "metadata": {},
   "outputs": [],
   "source": [
    "print(f'alpha = {alpha_ik:.2f}')\n",
    "print(f'beta = {beta_ik:.2f}')\n",
    "print(f'gamma = {gamma_ik:.2f}')"
   ]
  },
  {
   "cell_type": "markdown",
   "metadata": {},
   "source": [
    "To understand where the offset values for beta and gamma in the computation above are coming from, let's plot straight leg and see what theta and phi are."
   ]
  },
  {
   "cell_type": "code",
   "execution_count": null,
   "metadata": {},
   "outputs": [],
   "source": [
    "with plt.ioff():\n",
    "    _ = solve_and_plot_at_target_xz(\n",
    "        Point(coxa_len + femur_len + tibia_len, 0), 'Straight leg out', verbose=True\n",
    "    )\n",
    "    display(plt.gcf())"
   ]
  },
  {
   "cell_type": "markdown",
   "metadata": {},
   "source": [
    "Now once we have the solution, let's play with it a little bit and solve for various target points.\n",
    "If math is working correctly, foot (magenta dot) should always overlap with the target (black dot)."
   ]
  },
  {
   "cell_type": "code",
   "execution_count": null,
   "metadata": {},
   "outputs": [],
   "source": [
    "with plt.ioff():\n",
    "    _ = solve_and_plot_at_target_xz(Point(20.61, 6.14), verbose=True)\n",
    "    display(plt.gcf())"
   ]
  },
  {
   "cell_type": "code",
   "execution_count": null,
   "metadata": {},
   "outputs": [],
   "source": [
    "with plt.ioff():\n",
    "    _ = solve_and_plot_at_target_xz(Point(15, 0), verbose=True)\n",
    "    display(plt.gcf())"
   ]
  },
  {
   "cell_type": "markdown",
   "metadata": {},
   "source": [
    "### Putting it all together"
   ]
  },
  {
   "cell_type": "code",
   "execution_count": null,
   "metadata": {},
   "outputs": [],
   "source": [
    "def inverse_kinematics(coxa, femur, tibia, foot_target: Point3D):\n",
    "    alpha, X_tick = coxa_ik(foot_target.xy)\n",
    "    beta, gamma = inverse_kinematics_xz(coxa, femur, tibia, Point(X_tick, foot_target.z))\n",
    "    return alpha, beta, gamma"
   ]
  },
  {
   "cell_type": "markdown",
   "metadata": {},
   "source": [
    "### The classic IK test - drawing a circle\n",
    "\n",
    "The classic IK test is to draw a circle with the foot in each coordinate plane. Since we are using projects, let's limit it to the XZ plane."
   ]
  },
  {
   "cell_type": "code",
   "execution_count": null,
   "metadata": {},
   "outputs": [],
   "source": [
    "# Generate data and solve IK\n",
    "\n",
    "steps = 32\n",
    "x = 15.0\n",
    "y = 0.0\n",
    "z = -1.0\n",
    "scalar = 2\n",
    "\n",
    "sequence_xz_little_circle = [\n",
    "    # x, y, z\n",
    "    Point3D(x + math.sin(i) * scalar, y, z - math.cos(i) * scalar, f'xz-circle step {i}')\n",
    "    for i in np.linspace(0, np.pi * 2, steps)\n",
    "]\n",
    "total_targets = len(sequence_xz_little_circle)\n",
    "\n",
    "solved_foot = []\n",
    "solved_model = []\n",
    "for target in sequence_xz_little_circle:\n",
    "    alpha, beta, gamma = inverse_kinematics(coxa_len, femur_len, tibia_len, target)\n",
    "    model = forward_kinematics(\n",
    "        coxa_len,\n",
    "        femur_len,\n",
    "        tibia_len,\n",
    "        alpha,\n",
    "        beta,\n",
    "        gamma,\n",
    "        # Inverse kinematic is defined in terms of leg coordinate frame, so body length and start_z are 0\n",
    "        start_height=0,\n",
    "        body_length=0,\n",
    "    )\n",
    "    foot = model[-1].end\n",
    "    solved_foot.append(foot)\n",
    "    solved_model.append(model)"
   ]
  },
  {
   "cell_type": "code",
   "execution_count": null,
   "metadata": {},
   "outputs": [],
   "source": [
    "# Plot IK solutions and targets into an animation\n",
    "\n",
    "from matplotlib.animation import FuncAnimation\n",
    "import matplotlib.pyplot as plt\n",
    "\n",
    "plt.rcParams['animation.html'] = 'jshtml'\n",
    "\n",
    "model = solved_model[0]\n",
    "\n",
    "with plt.ioff():\n",
    "    fig, ax, lines, joints = plot_leg_with_points(\n",
    "        model,\n",
    "        'IK Circle',\n",
    "        link_labels='none',\n",
    "        joint_labels='points',\n",
    "    )\n",
    "\n",
    "    def animate(frame):\n",
    "        even = not frame % 2\n",
    "        if even:\n",
    "            frame = frame // 2\n",
    "            target = sequence_xz_little_circle[frame]\n",
    "            ax.scatter(target.x, target.z, color='k', zorder=-100)\n",
    "        else:\n",
    "            frame = frame // 2\n",
    "            model = solved_model[frame]\n",
    "            plot_leg_update_lines(model, lines, joints)\n",
    "            foot = solved_foot[frame]\n",
    "            ax.scatter(foot.x, foot.y, color='m', alpha=0.5, zorder=100)\n",
    "\n",
    "    display(FuncAnimation(fig, animate, frames=total_targets * 2, interval=50))"
   ]
  },
  {
   "cell_type": "markdown",
   "metadata": {},
   "source": [
    " Woohoo! The entire IK chain works as expected and we can put the foot on a target! \n",
    "\n",
    " There is still one oopsy to cover, a case when the target is unreachable."
   ]
  },
  {
   "cell_type": "code",
   "execution_count": null,
   "metadata": {},
   "outputs": [],
   "source": [
    "try:\n",
    "    inverse_kinematics(1, 1, 1, Point3D(10, 1, 1))\n",
    "except ValueError as e:\n",
    "    print(e)"
   ]
  },
  {
   "cell_type": "markdown",
   "metadata": {},
   "source": [
    "The `math domain error` happens inside the `acos` function when input is outside of range [-1, 1] which happens exactly when there is no solution. One of the possible fixes is to cap the input to the valid range."
   ]
  },
  {
   "cell_type": "code",
   "execution_count": null,
   "metadata": {},
   "outputs": [],
   "source": [
    "def safe_acos(num):\n",
    "    if num < -1:\n",
    "        return False, math.pi  # math.acos(-1)\n",
    "    elif num > 1:\n",
    "        return False, 0.0  # math.acos(1)\n",
    "    else:\n",
    "        return True, math.acos(num)\n",
    "\n",
    "\n",
    "def sefe_inverse_kinematics_xz(coxa, femur, tibia, foot_target, verbose=False):\n",
    "    \"\"\"\n",
    "    XZ axis Inverse kinematics solver for 3DOF leg.\n",
    "\n",
    "    Math as described above\n",
    "    \"\"\"\n",
    "    D = -foot_target.y\n",
    "    T = foot_target.x - coxa\n",
    "    L = math.hypot(D, T)\n",
    "\n",
    "    solvable_theta1, theta1_rad = safe_acos((L**2 + femur**2 - tibia**2) / (2 * L * femur))\n",
    "    theta1 = math.degrees(theta1_rad)\n",
    "\n",
    "    theta2 = math.degrees(math.atan2(T, D))\n",
    "    solvable_phi, phi_rad = safe_acos((tibia**2 + femur**2 - L**2) / (2 * tibia * femur))\n",
    "    phi = math.degrees(phi_rad)\n",
    "\n",
    "    beta = (theta1 + theta2) - 90\n",
    "    gamma = phi - 180\n",
    "    if verbose:\n",
    "        print(\n",
    "            f'{theta1=} - solvable={solvable_theta1}\\n{theta2=}\\n{phi=} - solvable={solvable_phi}\\n\\n{beta=}\\n{gamma=}'\n",
    "        )\n",
    "    return solvable_theta1 and solvable_phi, beta, gamma\n",
    "\n",
    "\n",
    "def safe_inverse_kinematics(coxa, femur, tibia, foot_target: Point3D, verbose=False):\n",
    "    alpha, X_tick = coxa_ik(foot_target.xy)\n",
    "    solvable, beta, gamma = sefe_inverse_kinematics_xz(\n",
    "        coxa, femur, tibia, Point(X_tick, foot_target.z), verbose=verbose\n",
    "    )\n",
    "    return solvable, alpha, beta, gamma\n",
    "\n",
    "\n",
    "try:\n",
    "    solvable, alpha, beta, gamma = safe_inverse_kinematics(1, 1, 1, Point3D(10, 1, 1), verbose=True)\n",
    "except ValueError as e:\n",
    "    print(e)"
   ]
  },
  {
   "cell_type": "markdown",
   "metadata": {},
   "source": [
    "With the safe capped version of acos function not only not throwing, but also provides a potential capped solution with properly reporting that actual solution is not possible.\n",
    "\n",
    "Let's plot it to have better intuition about what's going on."
   ]
  },
  {
   "cell_type": "code",
   "execution_count": null,
   "metadata": {},
   "outputs": [],
   "source": [
    "import matplotlib.pyplot as plt\n",
    "\n",
    "plt.rcParams['animation.html'] = 'none'\n",
    "\n",
    "\n",
    "def safe_solve_and_plot_at_target(\n",
    "    coxa, femur, tibia, foot_target: Point, plot_title='Inverse Kinematics', verbose=False\n",
    "):\n",
    "    solvable, alpha, beta, gamma = safe_inverse_kinematics(\n",
    "        coxa, femur, tibia, foot_target, verbose=verbose\n",
    "    )\n",
    "\n",
    "    model = forward_kinematics(\n",
    "        coxa,\n",
    "        femur,\n",
    "        tibia,\n",
    "        alpha,\n",
    "        beta,\n",
    "        gamma,\n",
    "        # Inverse kinematic is defined in terms of leg coordinate frame, so body length and start_z are 0\n",
    "        start_height=0,\n",
    "        body_length=0,\n",
    "    )\n",
    "\n",
    "    _, ax, _, _ = plot_leg_with_points(\n",
    "        model,\n",
    "        plot_title + (' (target reached)' if solvable else ' (target unreachable)'),\n",
    "        joint_labels='points',\n",
    "        link_labels='none',\n",
    "        x_label='X',\n",
    "        y_label='Z',\n",
    "    )\n",
    "    xmin, xmax = ax.get_xlim()\n",
    "    ax.set_xlim(min(xmin, foot_target.x - 1), max(xmax, foot_target.x + 1))\n",
    "    ymin, ymax = ax.get_ylim()\n",
    "    ax.set_ylim(min(ymin, foot_target.z - 1), max(ymax, foot_target.z + 1))\n",
    "\n",
    "    ax.scatter(foot_target.x, foot_target.z, color='k', label='Foot target')\n",
    "\n",
    "    tibia_line = model[-1]\n",
    "    ax.plot(\n",
    "        *zip(\n",
    "            tibia_line.end,\n",
    "            tibia_line.extended(np.linalg.norm((foot_target.xy - tibia_line.end).numpy())).end,\n",
    "        ),\n",
    "        'm:',\n",
    "    )\n",
    "    ax.legend().remove()\n",
    "\n",
    "\n",
    "with plt.ion():\n",
    "    safe_solve_and_plot_at_target(1, 1, 1, Point3D(5, 0, -2), verbose=False)"
   ]
  },
  {
   "cell_type": "markdown",
   "metadata": {},
   "source": [
    "The chart above is a nice demonstration of how the safe algorithm works. Even though leg is clearly not reaching the target (leg foot is magenta dot), it is pointing exactly at the target as seen by the dotted line."
   ]
  }
 ],
 "metadata": {
  "kernelspec": {
   "display_name": ".venv",
   "language": "python",
   "name": "python3"
  },
  "language_info": {
   "codemirror_mode": {
    "name": "ipython",
    "version": 3
   },
   "file_extension": ".py",
   "mimetype": "text/x-python",
   "name": "python",
   "nbconvert_exporter": "python",
   "pygments_lexer": "ipython3",
   "version": "3.12.3"
  }
 },
 "nbformat": 4,
 "nbformat_minor": 2
}
