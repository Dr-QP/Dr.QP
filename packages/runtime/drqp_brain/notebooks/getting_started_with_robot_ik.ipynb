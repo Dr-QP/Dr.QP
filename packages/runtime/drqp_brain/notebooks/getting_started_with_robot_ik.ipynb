{
 "cells": [
  {
   "cell_type": "markdown",
   "metadata": {},
   "source": [
    "# Getting Started With Robot Inverse Kinematics (IK)\n",
    "\n",
    "Welcome to the first guide in the series of getting started with Dr.QP robot Inverse Kinematics (IK).\n",
    "In this guide, we will cover the basics of IK and how to use it to control a robot.\n",
    "\n",
    "## What is Inverse Kinematics?\n",
    "Inverse Kinematics (IK) is a technique used in robotics to determine the joint angles required to achieve a desired end-effector position. It is the process of solving the inverse problem of forward kinematics, which calculates the end-effector position given the joint angles.\n",
    "\n",
    "## Why is Inverse Kinematics Important?\n",
    "Inverse Kinematics is important because it allows robots to perform complex movements and tasks. By calculating the joint angles required to reach a specific position, robots can navigate their environment and interact with objects more effectively.\n",
    "\n",
    "## How to Use Inverse Kinematics\n",
    "To use Inverse Kinematics, you need to have a model of your robot's kinematics. This model includes the lengths of the robot's links and the joint angles. Once you have this model, you can use it to calculate the joint angles required to achieve a desired end-effector position."
   ]
  },
  {
   "cell_type": "markdown",
   "metadata": {},
   "source": [
    "## Setting up the Jupyter notebook\n",
    "\n",
    "Before we start, lets configure matplotlib to display plots inline:"
   ]
  },
  {
   "cell_type": "code",
   "execution_count": 1,
   "metadata": {},
   "outputs": [],
   "source": [
    "%matplotlib inline"
   ]
  },
  {
   "cell_type": "markdown",
   "metadata": {},
   "source": [
    "As well as enable live python modules reloading, so you can change the code in sibling files and see the results immediately without restarting the kernel"
   ]
  },
  {
   "cell_type": "code",
   "execution_count": 2,
   "metadata": {},
   "outputs": [],
   "source": [
    "# Enable python modules live reloading\n",
    "%load_ext autoreload\n",
    "%autoreload 2"
   ]
  },
  {
   "cell_type": "markdown",
   "metadata": {},
   "source": [
    "## The robot model\n",
    "\n",
    "For this tutorial we will use the simplest part of Dr.QP robot - a single leg.\n",
    "\n",
    "It has a 3 degrees of freedom and consists of 3 links:\n",
    " - coxa (hip)\n",
    " - femur (thigh)\n",
    " - tibia (shin)\n",
    " \n",
    "and 3 joints:\n",
    " - alpha (coxa joint, hip joint)\n",
    " - beta (femur joint, thigh joint)\n",
    " - gamma (tibia joint, shin joint)\n",
    "\n",
    "Links have only single property - length. They are connected to each other with joints. Joints have only single property - angle.\n",
    "\n",
    "The diagrams below will make it much more clear, I promise, so just keep reading.\n",
    "\n",
    "The values below are the default parameters for the simulated leg used in this tutorial."
   ]
  },
  {
   "cell_type": "code",
   "execution_count": 3,
   "metadata": {},
   "outputs": [],
   "source": [
    "coxa_length = 3\n",
    "femur_length = 4\n",
    "tibia_length = 7\n",
    "\n",
    "alpha = 0 # controls coxa angle, 0 is straight\n",
    "beta = 0 # controls femur angle, 0 is straight\n",
    "gamma = 0 # controls tibia angle, 0 is straight"
   ]
  },
  {
   "cell_type": "markdown",
   "metadata": {},
   "source": [
    "## Forward kinematics\n",
    "\n",
    "Before we dive into the details of how inverse kinematics works, let's first get familiar with forward kinematics. The forward kinematics of the robotic leg is the process of calculating the position of the foot based on the angles of the joints.\n",
    "\n",
    "Coxa, femur and tibia are represented with vector that is rotated at its base. Each next link starts at the ened of the previous link.\n",
    "The starting point is (0, 0)."
   ]
  },
  {
   "cell_type": "code",
   "execution_count": 4,
   "metadata": {},
   "outputs": [],
   "source": [
    "from point import Point, Line\n",
    "\n",
    "# unused\n",
    "def forward_kinematics_rads(coxa_length, femur_length, tibia_length, alpha_rad, beta_rad, gamma_rad, start_z=2, body_length=3):\n",
    "    body = Point(0, start_z)\n",
    "    start = Point(body_length, start_z, f'{alpha_rad=}rads')\n",
    "    coxa = start + Point(coxa_length, 0, f'{beta_rad=}rads').rotate(alpha_rad)\n",
    "    femur = coxa + Point(femur_length, 0, f'{gamma_rad=}rads').rotate(beta_rad)\n",
    "    tibia = femur + Point(tibia_length, 0, 'Foot').rotate(gamma_rad)\n",
    "\n",
    "    return Line(body, start, 'Body'), Line(start, coxa, 'Coxa'), Line(coxa, femur, 'Femur'), Line(femur, tibia, 'Tibia')\n"
   ]
  },
  {
   "cell_type": "markdown",
   "metadata": {},
   "source": [
    "Radians is a natural way to represent angles in most of the math related to robotics, however I find it easier to think in degrees, therefore I will be using degrees in this notebook."
   ]
  },
  {
   "cell_type": "code",
   "execution_count": 5,
   "metadata": {},
   "outputs": [],
   "source": [
    "import numpy as np\n",
    "\n",
    "def forward_kinematics(coxa_length, femur_length, tibia_length, alpha, beta, gamma, start_z=2, body_length=3):\n",
    "    alpha_rad = np.radians(alpha)\n",
    "    beta_rad = np.radians(beta) + alpha_rad\n",
    "    gamma_rad = np.radians(gamma) + beta_rad\n",
    "\n",
    "    body = Point(0, start_z)\n",
    "    start = Point(body_length, start_z, fr'$\\alpha$={alpha}°')\n",
    "    coxa = start + Point(coxa_length, 0, fr'$\\beta$={beta}°').rotate(alpha_rad)\n",
    "    femur = coxa + Point(femur_length, 0, fr'$\\gamma$={gamma}°').rotate(beta_rad)\n",
    "    tibia = femur + Point(tibia_length, 0, 'Foot').rotate(gamma_rad)\n",
    "\n",
    "    return Line(body, start, 'Body'), Line(start, coxa, 'Coxa'), Line(coxa, femur, 'Femur'), Line(femur, tibia, 'Tibia')\n"
   ]
  },
  {
   "cell_type": "markdown",
   "metadata": {},
   "source": [
    "First, lets see how our leg looks in the neutral position. It is a straight line going from start point at (0, 0) and ending with the `Foot`"
   ]
  },
  {
   "cell_type": "code",
   "execution_count": 9,
   "metadata": {},
   "outputs": [
    {
     "data": {
      "image/png": "[encoded data removed]",
      "text/plain": [
       "<Figure size 640x480 with 1 Axes>"
      ]
     },
     "metadata": {},
     "output_type": "display_data"
    }
   ],
   "source": [
    "%matplotlib inline\n",
    "from plotting import plot_leg_with_points\n",
    "\n",
    "model = forward_kinematics(coxa_length, femur_length, tibia_length, alpha, beta, gamma)\n",
    "\n",
    "_ = plot_leg_with_points(model, 'Neutral position (straight leg)')"
   ]
  },
  {
   "cell_type": "markdown",
   "metadata": {},
   "source": [
    "Now lets try changing some angles to see how it behaves. Feel free to experiment with different values."
   ]
  },
  {
   "cell_type": "code",
   "execution_count": null,
   "metadata": {},
   "outputs": [],
   "source": [
    "%matplotlib inline\n",
    "\n",
    "model = forward_kinematics(coxa_length, femur_length, tibia_length, 50, -60, 0)\n",
    "\n",
    "_ = plot_leg_with_points(model, 'Lifted up (coxa) and bent down (femur)')\n"
   ]
  },
  {
   "cell_type": "code",
   "execution_count": null,
   "metadata": {},
   "outputs": [],
   "source": [
    "%matplotlib inline\n",
    "\n",
    "model = forward_kinematics(coxa_length, femur_length, tibia_length, 45, -45, -17.7)\n",
    "\n",
    "_ = plot_leg_with_points(model, 'Lifted up (coxa) and bent down (femur), with foot on the ground (guessed angle)')"
   ]
  },
  {
   "cell_type": "markdown",
   "metadata": {},
   "source": [
    "## Exercise 1. Forward kinematics. Find angles at which the leg is on the ground\n",
    "\n",
    "Its time to have a little fun with our robot.\n",
    "\n",
    "Using the sliders on the interactive diagram below try to find angles at which the foot is on the ground."
   ]
  },
  {
   "cell_type": "code",
   "execution_count": null,
   "metadata": {},
   "outputs": [],
   "source": [
    "\n",
    "from plotting import plot_leg_update_lines\n",
    "from ipywidgets import interact\n",
    "import matplotlib\n",
    "\n",
    "\n",
    "# To switch to interactive mode:\n",
    "#  1. Set is_interactive to True\n",
    "#  2. Restart kernel and run all the cells above\n",
    "# DO NOT RUN THE CELLS BELOW, matplotlib's widget backend has to be the last magic executed to use interactive backend\n",
    "is_interactive = False\n",
    "\n",
    "matplotlib.use('widget' if is_interactive else 'inline')\n",
    "\n",
    "start=Point(0, 3)\n",
    "alpha=0\n",
    "beta=35\n",
    "gamma=-110\n",
    "model = forward_kinematics(coxa_length, femur_length, tibia_length, alpha, beta, gamma, start=start)\n",
    "fig, _, lines, joints = plot_leg_with_points(model, 'Find angles to place foot on the X axis', no_joint_labels=is_interactive, no_link_labels=is_interactive)\n",
    "\n",
    "def update(alpha=alpha, beta=beta, gamma=gamma):\n",
    "    model = forward_kinematics(coxa_length, femur_length, tibia_length, alpha, beta, gamma, start=start)\n",
    "    plot_leg_update_lines(model, lines, joints)\n",
    "    fig.canvas.draw_idle()\n",
    "\n",
    "if is_interactive:\n",
    "    interact(update,\n",
    "      alpha=(-180, 180, 0.1),\n",
    "      beta=(-180, 180, 0.1),\n",
    "      gamma=(-180, 180, 0.1))"
   ]
  },
  {
   "cell_type": "code",
   "execution_count": null,
   "metadata": {},
   "outputs": [],
   "source": [
    "if is_interactive:\n",
    "    raise Exception(\"Stopping here to avoid breaking interactive mode. Set is_interactive to False in the cell above and execute it and all below.\")"
   ]
  },
  {
   "cell_type": "markdown",
   "metadata": {},
   "source": [
    "That was a fun little exercise, but it takes some effort to find just the right angle, and you might have noticed that there are more than one solution to it. \n",
    "\n",
    "The problem of having more than one solution is known as over-actuation. It happens for our robotic leg because there are 3 joints in the same plain, giving leg ability of reaching desired goal using various combinations of joint angles. Essentially if links create a polygon with more than 3 sides (more than triangle), then there are multiple solutions.\n",
    "\n",
    "However, it is not an issue in the real Dr.QP hexapod robot as coxa joint is in the different plain in 3D space. Therefore we are not going to expand on this topic further right now and will keep coxa joint angle (alpha) fixed at 0 degree. This will prevent over-actuation and simplify the problem.\n",
    "\n",
    "There are various ways to solve inverse kinematics problem. We are going to use the most basic one, which is based on trigonometry, since Dr.QP legs are not over-actuated."
   ]
  },
  {
   "cell_type": "markdown",
   "metadata": {},
   "source": [
    "## Solving inverse kinematics using trigonometry\n",
    "\n"
   ]
  },
  {
   "cell_type": "code",
   "execution_count": null,
   "metadata": {},
   "outputs": [],
   "source": [
    "%matplotlib inline\n",
    "\n",
    "# from inline_labels import add_inline_labels\n",
    "\n",
    "# start=Point(0, 3)\n",
    "# model = forward_kinematics(coxa_length, femur_length, tibia_length, 0, 50, -110, start=start)\n",
    "\n",
    "# fig, ax, _, _ = plot_leg_with_points(model, 'Inverse Kinematics trigonometry', no_link_labels=True)\n",
    "\n",
    "# # coxa_joint, femur_joint, tibia_joint, foot = points\n",
    "# # ax.plot([femur_joint.x, foot.x], [femur_joint.y, foot.y], 'k--', label='L')\n",
    "\n",
    "# ax.plot([femur_joint.x, femur_joint.x], [femur_joint.y, 0], 'k--', label='D')\n",
    "\n",
    "# add_inline_labels(ax, with_overall_progress=False, fontsize='medium')\n",
    "\n",
    "pass"
   ]
  }
 ],
 "metadata": {
  "kernelspec": {
   "display_name": ".venv",
   "language": "python",
   "name": "python3"
  },
  "language_info": {
   "codemirror_mode": {
    "name": "ipython",
    "version": 3
   },
   "file_extension": ".py",
   "mimetype": "text/x-python",
   "name": "python",
   "nbconvert_exporter": "python",
   "pygments_lexer": "ipython3",
   "version": "3.12.3"
  }
 },
 "nbformat": 4,
 "nbformat_minor": 2
}
